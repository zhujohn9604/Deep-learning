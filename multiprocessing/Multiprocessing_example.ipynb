{
 "cells": [
  {
   "cell_type": "markdown",
   "metadata": {},
   "source": [
    "# A simple example"
   ]
  },
  {
   "cell_type": "code",
   "execution_count": 5,
   "metadata": {},
   "outputs": [
    {
     "name": "stdout",
     "output_type": "stream",
     "text": [
      "Sleeping 1 second...\n",
      "Done Sleeping...\n",
      "Finished in 1.0 second(s)\n"
     ]
    }
   ],
   "source": [
    "import time\n",
    "\n",
    "start = time.perf_counter()\n",
    "\n",
    "def do_something():\n",
    "    print('Sleeping 1 second...')\n",
    "    time.sleep(1)\n",
    "    print('Done Sleeping...')\n",
    "\n",
    "do_something()\n",
    "\n",
    "finish = time.perf_counter()\n",
    "\n",
    "print(f'Finished in {round(finish-start, 2)} second(s)')"
   ]
  },
  {
   "cell_type": "code",
   "execution_count": 22,
   "metadata": {},
   "outputs": [
    {
     "name": "stdout",
     "output_type": "stream",
     "text": [
      "Sleeping 1 second...\n",
      "Done Sleeping...\n",
      "Sleeping 1 second...\n",
      "Done Sleeping...\n",
      "Sleeping 1 second...\n",
      "Done Sleeping...\n",
      "Sleeping 1 second...\n",
      "Done Sleeping...\n",
      "Sleeping 1 second...\n",
      "Done Sleeping...\n",
      "Sleeping 1 second...\n",
      "Done Sleeping...\n",
      "Sleeping 1 second...\n",
      "Done Sleeping...\n",
      "Sleeping 1 second...\n",
      "Done Sleeping...\n",
      "Sleeping 1 second...\n",
      "Done Sleeping...\n",
      "Finished in 9.04 second(s)\n"
     ]
    }
   ],
   "source": [
    "import time\n",
    "\n",
    "start = time.perf_counter()\n",
    "\n",
    "def do_something():\n",
    "    print('Sleeping 1 second...')\n",
    "    time.sleep(1)\n",
    "    print('Done Sleeping...')\n",
    "\n",
    "do_something()\n",
    "do_something()\n",
    "do_something()\n",
    "do_something()\n",
    "do_something()\n",
    "do_something()\n",
    "do_something()\n",
    "do_something()\n",
    "do_something()\n",
    "\n",
    "finish = time.perf_counter()\n",
    "\n",
    "print(f'Finished in {round(finish-start, 2)} second(s)')"
   ]
  },
  {
   "cell_type": "markdown",
   "metadata": {},
   "source": [
    "**Let's run it in parallel by importing multiprocessing module which exists in the standard library.**"
   ]
  },
  {
   "cell_type": "code",
   "execution_count": 8,
   "metadata": {},
   "outputs": [
    {
     "name": "stdout",
     "output_type": "stream",
     "text": [
      "Sleeping 1 second...\n",
      "Sleeping 1 second...\n",
      "Done Sleeping...\n",
      "Done Sleeping...\n",
      "Finished in 1.02 second(s)\n"
     ]
    }
   ],
   "source": [
    "import multiprocessing\n",
    "import time\n",
    "\n",
    "start = time.perf_counter()\n",
    "\n",
    "def do_something():\n",
    "    print('Sleeping 1 second...')\n",
    "    time.sleep(1)\n",
    "    print('Done Sleeping...')\n",
    "\n",
    "p1 = multiprocessing.Process(target=do_something) # didn't run the function\n",
    "p2 = multiprocessing.Process(target=do_something) # in fact.\n",
    "\n",
    "p1.start() # run it\n",
    "p2.start() # however, it will kick off our process\n",
    "\n",
    "p1.join() # it will firstly finish the process\n",
    "p2.join() # before moving on in the scripts.\n",
    "\n",
    "finish = time.perf_counter()\n",
    "\n",
    "print(f'Finished in {round(finish-start, 2)} second(s)')\n",
    "# f print is introduced in python 3.6"
   ]
  },
  {
   "cell_type": "code",
   "execution_count": 15,
   "metadata": {},
   "outputs": [
    {
     "name": "stdout",
     "output_type": "stream",
     "text": [
      "Sleeping 1.5 second(s)...\n",
      "Sleeping 1.5 second(s)...\n",
      "Sleeping 1.5 second(s)...\n",
      "Sleeping 1.5 second(s)...\n",
      "Sleeping 1.5 second(s)...\n",
      "Sleeping 1.5 second(s)...\n",
      "Sleeping 1.5 second(s)...\n",
      "Sleeping 1.5 second(s)...\n",
      "Sleeping 1.5 second(s)...\n",
      "Sleeping 1.5 second(s)...\n",
      "Done Sleeping...\n",
      "Done Sleeping...\n",
      "Done Sleeping...\n",
      "Done Sleeping...\n",
      "Done Sleeping...\n",
      "Done Sleeping...\n",
      "Done Sleeping...\n",
      "Done Sleeping...\n",
      "Done Sleeping...\n",
      "Done Sleeping...\n",
      "Finished in 1.56 second(s)\n"
     ]
    }
   ],
   "source": [
    "import multiprocessing\n",
    "import time\n",
    "\n",
    "start = time.perf_counter()\n",
    "\n",
    "def do_something(seconds):\n",
    "    print(f'Sleeping {seconds} second(s)...')\n",
    "    time.sleep(seconds)\n",
    "    print('Done Sleeping...')\n",
    "\n",
    "processes = []\n",
    "for _ in range(10): # _: throw away variable\n",
    "    p = multiprocessing.Process(target=do_something, args=[1.5])\n",
    "    p.start()\n",
    "    processes.append(p)\n",
    "  \n",
    "for process in processes:\n",
    "    process.join()\n",
    "\n",
    "finish = time.perf_counter()\n",
    "\n",
    "print(f'Finished in {round(finish-start, 2)} second(s)')\n",
    "# f string is introduced in python 3.6"
   ]
  },
  {
   "cell_type": "code",
   "execution_count": 18,
   "metadata": {},
   "outputs": [
    {
     "name": "stdout",
     "output_type": "stream",
     "text": [
      "Sleeping 5 second(s)...\n",
      "Sleeping 4 second(s)...\n",
      "Sleeping 3 second(s)...\n",
      "Sleeping 1 second(s)...\n",
      "Sleeping 2 second(s)...\n",
      "Done Sleeping... 1\n",
      "Done Sleeping... 2\n",
      "Done Sleeping... 3\n",
      "Done Sleeping... 4\n",
      "Done Sleeping... 5\n",
      "Finished in 5.09 second(s)\n"
     ]
    }
   ],
   "source": [
    "import concurrent.futures\n",
    "import time\n",
    "\n",
    "start = time.perf_counter()\n",
    "\n",
    "def do_something(seconds):\n",
    "    print(f'Sleeping {seconds} second(s)...')\n",
    "    time.sleep(seconds)\n",
    "    return (f'Done Sleeping... {seconds}')\n",
    "    \n",
    "with concurrent.futures.ProcessPoolExecutor() as executor:\n",
    "    secs = [5, 4, 3, 2, 1]\n",
    "    results = [executor.submit(do_something, sec) for sec in secs]\n",
    "    \n",
    "    for f in concurrent.futures.as_completed(results):\n",
    "        print(f.result())\n",
    "\n",
    "finish = time.perf_counter()\n",
    "\n",
    "print(f'Finished in {round(finish-start, 2)} second(s)')\n",
    "# f string is introduced in python 3.6"
   ]
  },
  {
   "cell_type": "code",
   "execution_count": 23,
   "metadata": {},
   "outputs": [
    {
     "name": "stdout",
     "output_type": "stream",
     "text": [
      "Sleeping 1 second(s)...\n",
      "Sleeping 0 second(s)...\n",
      "Sleeping 2 second(s)...\n",
      "Sleeping 3 second(s)...\n",
      "Sleeping 5 second(s)...\n",
      "Sleeping 4 second(s)...\n",
      "Sleeping 7 second(s)...\n",
      "Sleeping 6 second(s)...\n",
      "Sleeping 8 second(s)...\n",
      "Sleeping 12 second(s)...\n",
      "Sleeping 13 second(s)...\n",
      "Sleeping 9 second(s)...\n",
      "Sleeping 14 second(s)...\n",
      "Sleeping 10 second(s)...\n",
      "Sleeping 16 second(s)...\n",
      "Sleeping 11 second(s)...\n",
      "Sleeping 15 second(s)...\n",
      "Done Sleeping... 0\n",
      "Sleeping 17 second(s)...\n",
      "Done Sleeping... 1\n",
      "Sleeping 18 second(s)...\n",
      "Done Sleeping... 2\n",
      "Sleeping 19 second(s)...\n",
      "Done Sleeping... 3\n",
      "Done Sleeping... 4\n",
      "Done Sleeping... 5\n",
      "Done Sleeping... 6\n",
      "Done Sleeping... 7\n",
      "Done Sleeping... 8\n",
      "Done Sleeping... 9\n",
      "Done Sleeping... 10\n",
      "Done Sleeping... 11\n",
      "Done Sleeping... 12\n",
      "Done Sleeping... 13\n",
      "Done Sleeping... 14\n",
      "Done Sleeping... 15\n",
      "Done Sleeping... 16\n",
      "Done Sleeping... 17\n",
      "Done Sleeping... 18\n",
      "Done Sleeping... 19\n",
      "Finished in 22.09 second(s)\n"
     ]
    }
   ],
   "source": [
    "import concurrent.futures\n",
    "import time\n",
    "\n",
    "start = time.perf_counter()\n",
    "\n",
    "def do_something(seconds):\n",
    "    print(f'Sleeping {seconds} second(s)...')\n",
    "    time.sleep(seconds)\n",
    "    return (f'Done Sleeping... {seconds}')\n",
    "    \n",
    "with concurrent.futures.ProcessPoolExecutor() as executor:\n",
    "    secs = range(20)\n",
    "    results = executor.map(do_something, secs)\n",
    "    \n",
    "    for result in results:\n",
    "        print(result)\n",
    "\n",
    "finish = time.perf_counter()\n",
    "\n",
    "print(f'Finished in {round(finish-start, 2)} second(s)')\n",
    "# f string is introduced in python 3.6"
   ]
  }
 ],
 "metadata": {
  "kernelspec": {
   "display_name": "Python 3",
   "language": "python",
   "name": "python3"
  },
  "language_info": {
   "codemirror_mode": {
    "name": "ipython",
    "version": 3
   },
   "file_extension": ".py",
   "mimetype": "text/x-python",
   "name": "python",
   "nbconvert_exporter": "python",
   "pygments_lexer": "ipython3",
   "version": "3.7.3"
  }
 },
 "nbformat": 4,
 "nbformat_minor": 2
}
